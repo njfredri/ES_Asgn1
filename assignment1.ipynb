{
 "cells": [
  {
   "cell_type": "markdown",
   "metadata": {},
   "source": [
    "Setup Library to help with compiling and running"
   ]
  },
  {
   "cell_type": "code",
   "execution_count": 1,
   "metadata": {},
   "outputs": [],
   "source": [
    "import os\n",
    "import subprocess\n",
    "import re\n",
    "import numpy as np\n",
    "\n",
    "def remove_non_hex(s):\n",
    "    return re.sub(r'[^0-9A-Fa-f]', '', s)\n",
    "\n",
    "def file_exists(file_path):\n",
    "    return os.path.isfile(file_path)\n",
    "\n",
    "def make_directory(destination_directory):\n",
    "    # check that the destination directory exists\n",
    "    os.makedirs(destination_directory, exist_ok=True)\n",
    "\n",
    "def copy_files_to_directory(files:list, destination):\n",
    "    for file in files:\n",
    "        if not file_exists(file): raise Exception('ERROR: cannot find file ' + str(file))\n",
    "        subprocess.run([\"cp\", file, destination], capture_output=True, text=True)"
   ]
  },
  {
   "cell_type": "markdown",
   "metadata": {},
   "source": [
    "Set settings, compile the C code, and program the Chip Whisperer  \n",
    "  \n",
    "Make sure to change the Firmware Directory to be correct"
   ]
  },
  {
   "cell_type": "code",
   "execution_count": 2,
   "metadata": {},
   "outputs": [
    {
     "name": "stdout",
     "output_type": "stream",
     "text": [
      "INFO: Found ChipWhisperer😍\n"
     ]
    }
   ],
   "source": [
    "SCOPETYPE = 'CWNANO'\n",
    "PLATFORM = 'CWNANO'\n",
    "CRYPTO_TARGET='TINYAES128C' \n",
    "SS_VER='SS_VER_1_1'\n",
    "FIRMWARE_DIR='../../../hardware/victims/firmware'\n",
    "C_FOLDER_NAME='assignment1'\n",
    "C_DIR = os.path.join(FIRMWARE_DIR, C_FOLDER_NAME)\n",
    "%run \"../../Setup_Scripts/Setup_Generic.ipynb\"\n"
   ]
  },
  {
   "cell_type": "markdown",
   "metadata": {},
   "source": [
    "Setup the C Code Folder  \n",
    "Code will be copied to the desired folder"
   ]
  },
  {
   "cell_type": "code",
   "execution_count": 3,
   "metadata": {
    "scrolled": true
   },
   "outputs": [
    {
     "name": "stdout",
     "output_type": "stream",
     "text": [
      "C_DIR:  ../../../hardware/victims/firmware\\assignment1\n"
     ]
    }
   ],
   "source": [
    "#setup the folder for the c code\n",
    "make_directory(C_DIR)\n",
    "files_to_copy = ['./assignment1.c','./makefile']\n",
    "copy_files_to_directory(files_to_copy, C_DIR)\n",
    "print(\"C_DIR: \", C_DIR)\n"
   ]
  },
  {
   "cell_type": "markdown",
   "metadata": {},
   "source": [
    "The code below compiles the code and programs the chip.  \n",
    "Make sure that the directory path matches C_DIR"
   ]
  },
  {
   "cell_type": "code",
   "execution_count": 4,
   "metadata": {},
   "outputs": [
    {
     "name": "stdout",
     "output_type": "stream",
     "text": [
      "/home/portable/chipwhisperer/hardware/victims/firmware/assignment1\n",
      "Building for platform CWNANO with CRYPTO_TARGET=TINYAES128C\n",
      "SS_VER set to SS_VER_1_1\n",
      "SS_VER set to SS_VER_1_1\n",
      "Blank crypto options, building for AES128\n",
      "Building for platform CWNANO with CRYPTO_TARGET=TINYAES128C\n",
      "SS_VER set to SS_VER_1_1\n",
      "SS_VER set to SS_VER_1_1\n",
      "Blank crypto options, building for AES128\n",
      "mkdir .dep\n",
      "Building for platform CWNANO with CRYPTO_TARGET=TINYAES128C\n",
      "SS_VER set to SS_VER_1_1\n",
      "SS_VER set to SS_VER_1_1\n",
      "Blank crypto options, building for AES128\n",
      "arm-none-eabi-gcc (GNU Arm Embedded Toolchain 10-2020-q4-major) 10.2.1 20201103 (release)\n",
      "Copyright (C) 2020 Free Software Foundation, Inc.\n",
      "This is free software; see the source for copying conditions.  There is NO\n",
      "warranty; not even for MERCHANTABILITY or FITNESS FOR A PARTICULAR PURPOSE.\n",
      "\n",
      "mkdir objdir-CWNANO \n",
      ".\n",
      "Welcome to another exciting ChipWhisperer target build!!\n",
      ".\n",
      "Assembling: .././hal/stm32f0/stm32f0_startup.S\n",
      "arm-none-eabi-gcc -c -mcpu=cortex-m0 -I. -x assembler-with-cpp -mthumb -mfloat-abi=soft -ffunction-sections -DF_CPU=7372800 -Wa,-gstabs,-adhlns=objdir-CWNANO/stm32f0_startup.lst -I.././simpleserial/ -I.././simpleserial/ -I.././hal -I.././hal/stm32f0 -I.././hal/stm32f0/CMSIS -I.././hal/stm32f0/CMSIS/core -I.././hal/stm32f0/CMSIS/device -I.././hal/stm32f0/Legacy -I.././crypto/ -I.././crypto/tiny-AES128-C .././hal/stm32f0/stm32f0_startup.S -o objdir-CWNANO/stm32f0_startup.o\n",
      ".\n",
      "Compiling:\n",
      "    .././crypto/aes-independant.c ...Done!\n",
      ".\n",
      "Compiling:\n",
      "    .././simpleserial/simpleserial.c ...Done!\n",
      ".\n",
      "Compiling:\n",
      "    .././crypto/tiny-AES128-C/aes.c ...Done!\n",
      ".\n",
      "Compiling:\n",
      "    assignment1.c ...Done!\n"
     ]
    },
    {
     "name": "stderr",
     "output_type": "stream",
     "text": [
      "assignment1.c: In function 'decrypt':\n",
      "assignment1.c:496:16: warning: passing argument 1 of 'expand_key' from incompatible pointer type [-Wincompatible-pointer-types]\n",
      "  496 |     expand_key(key, keys);\n",
      "      |                ^~~\n",
      "      |                |\n",
      "      |                uint8_t (*)[4] {aka unsigned char (*)[4]}\n",
      "assignment1.c:356:26: note: expected 'uint8_t *' {aka 'unsigned char *'} but argument is of type 'uint8_t (*)[4]' {aka 'unsigned char (*)[4]'}\n",
      "  356 | void expand_key(uint8_t *master_key, uint8_t keys[11][4][4]){\n",
      "      |                 ~~~~~~~~~^~~~~~~~~~\n",
      "assignment1.c: In function 'send_message':\n",
      "assignment1.c:534:27: warning: incompatible implicit declaration of built-in function 'strlen'\n",
      "  534 |     simpleserial_put('r', strlen(msg), (uint8_t *)msg);\n",
      "      |                           ^~~~~~\n",
      "assignment1.c:25:1: note: include '<string.h>' or provide a declaration of 'strlen'\n",
      "   24 | #include <stdio.h>\n",
      "  +++ |+#include <string.h>\n",
      "   25 | \n",
      "assignment1.c: In function 'decrypt_pt':\n",
      "assignment1.c:610:20: warning: passing argument 2 of 'decrypt' from incompatible pointer type [-Wincompatible-pointer-types]\n",
      "  610 |     decrypt(state, master_key);\n",
      "      |                    ^~~~~~~~~~\n",
      "      |                    |\n",
      "      |                    uint8_t * {aka unsigned char *}\n",
      "assignment1.c:493:43: note: expected 'uint8_t (*)[4]' {aka 'unsigned char (*)[4]'} but argument is of type 'uint8_t *' {aka 'unsigned char *'}\n",
      "  493 | void decrypt(uint8_t state[4][4], uint8_t key[4][4]){\n",
      "      |                                   ~~~~~~~~^~~~~~~~~\n"
     ]
    },
    {
     "name": "stdout",
     "output_type": "stream",
     "text": [
      ".\n",
      "Compiling:\n",
      "    .././hal/stm32f0_nano/stm32f0_hal_nano.c ...Done!\n",
      ".\n",
      "Compiling:\n",
      "    .././hal/stm32f0/stm32f0_hal_lowlevel.c ...Done!\n",
      ".\n",
      "LINKING:\n",
      "    assignment1-CWNANO.elf ...Done!\n",
      ".\n",
      "Creating load file for Flash: assignment1-CWNANO.hex\n",
      "arm-none-eabi-objcopy -O ihex -R .eeprom -R .fuse -R .lock -R .signature assignment1-CWNANO.elf assignment1-CWNANO.hex\n",
      ".\n",
      "Creating load file for Flash: assignment1-CWNANO.bin\n",
      "arm-none-eabi-objcopy -O binary -R .eeprom -R .fuse -R .lock -R .signature assignment1-CWNANO.elf assignment1-CWNANO.bin\n",
      ".\n",
      "Creating load file for EEPROM: assignment1-CWNANO.eep\n",
      "arm-none-eabi-objcopy -j .eeprom --set-section-flags=.eeprom=\"alloc,load\" \\\n",
      "--change-section-lma .eeprom=0 --no-change-warnings -O ihex assignment1-CWNANO.elf assignment1-CWNANO.eep || exit 0\n",
      ".\n",
      "Creating Symbol Table: assignment1-CWNANO.sym\n",
      "arm-none-eabi-nm -n assignment1-CWNANO.elf > assignment1-CWNANO.sym\n",
      ".\n",
      "Creating Extended Listing: assignment1-CWNANO.lss\n",
      "arm-none-eabi-objdump -h -S -z assignment1-CWNANO.elf > assignment1-CWNANO.lss\n",
      "Building for platform CWNANO with CRYPTO_TARGET=TINYAES128C\n",
      "SS_VER set to SS_VER_1_1\n",
      "SS_VER set to SS_VER_1_1\n",
      "Blank crypto options, building for AES128\n",
      "Size after:\n",
      "   text\t   data\t    bss\t    dec\t    hex\tfilename\n",
      "  10408\t    628\t   1532\t  12568\t   3118\tassignment1-CWNANO.elf\n",
      "+--------------------------------------------------------\n",
      "+ Default target does full rebuild each time.\n",
      "+ Specify buildtarget == allquick == to avoid full rebuild\n",
      "+--------------------------------------------------------\n",
      "+--------------------------------------------------------\n",
      "+ Built for platform CWNANO Built-in Target (STM32F030) with:\n",
      "+ CRYPTO_TARGET = TINYAES128C\n",
      "+ CRYPTO_OPTIONS = AES128C\n",
      "+--------------------------------------------------------\n"
     ]
    }
   ],
   "source": [
    "%%bash -s \"$PLATFORM\" \"$CRYPTO_TARGET\" \"$SS_VER\"\n",
    "#make sure path below matches C_DIR\n",
    "cd ../../../hardware/victims/firmware/assignment1\n",
    "echo $PWD\n",
    "#remove all old generated files\n",
    "rm -rf ./.dep\n",
    "rm -rf ./objdir-CWNANO\n",
    "rm ./*CWNANO*\n",
    "make PLATFORM=$1 CRYPTO_TARGET=$2 SS_VER=$3 -j"
   ]
  },
  {
   "cell_type": "markdown",
   "metadata": {},
   "source": [
    "Program the ChipWhisperer"
   ]
  },
  {
   "cell_type": "code",
   "execution_count": 5,
   "metadata": {},
   "outputs": [
    {
     "name": "stdout",
     "output_type": "stream",
     "text": [
      "../../../hardware/victims/firmware\\assignment1\\assignment1-CWNANO.hex\n",
      "Detected known STMF32: STM32F03xx4/03xx6\n",
      "Extended erase (0x44), this can take ten seconds or more\n",
      "Attempting to program 11035 bytes at 0x8000000\n",
      "STM32F Programming flash...\n",
      "STM32F Reading flash...\n",
      "Verified flash OK, 11035 bytes\n"
     ]
    }
   ],
   "source": [
    "hexfile = 'assignment1-{}.hex'.format(PLATFORM)\n",
    "hexfilepath = str(os.path.join(C_DIR, hexfile))\n",
    "print(hexfilepath)\n",
    "cw.program_target(scope, prog, hexfilepath.format(PLATFORM))\n"
   ]
  },
  {
   "cell_type": "markdown",
   "metadata": {},
   "source": [
    "Library for using the AES"
   ]
  },
  {
   "cell_type": "code",
   "execution_count": 6,
   "metadata": {},
   "outputs": [],
   "source": [
    "import numpy as np\n",
    "\n",
    "def matrix2bytes(matrix):\n",
    "    \"\"\" Converts a 4x4 matrix into a 16-byte array. \"\"\"\n",
    "    return bytes(matrix.flatten())  # Flattening ensures it's a 1D array\n",
    "def bytes2matrix(text):\n",
    "    \"\"\" Converts a 16-byte array into a 4x4 matrix.  \"\"\"\n",
    "    return [list(text[i:i+4]) for i in range(0, len(text), 4)]\n",
    "\n",
    "def printmatrix(a):\n",
    "    print('\\n', end='')\n",
    "    for column in a:\n",
    "        for item in column:\n",
    "            print(hex(item)[2:], end=' ')\n",
    "        print('\\n', end='')\n",
    "\n",
    "def set_key_cw(hexkey: bytearray, print_out=False):\n",
    "    target.simpleserial_write('k', hexkey)\n",
    "    keyresponse = target.simpleserial_read('r', 1)\n",
    "    if print_out:\n",
    "        if keyresponse[0] == 0x00:\n",
    "            print(\"successfully set key to\")\n",
    "            print(hexkey.hex())\n",
    "        else:\n",
    "            print(\"failed to set key\")\n",
    "    return keyresponse\n",
    "    \n",
    "def encrypt_plaintext_cw(hexvalue: bytearray, print_out=False):\n",
    "    target.simpleserial_write('p', hexvalue)\n",
    "    testresponse = target.simpleserial_read('r', 16)\n",
    "    if print_out:\n",
    "        print('plain text input: ')\n",
    "        print(hexvalue.hex())\n",
    "        print('aes encryption output:')\n",
    "        print(testresponse.hex())\n",
    "    return testresponse\n",
    "\n",
    "def decrypt_plaintext_cw(hexvalue: bytearray, print_out=False):\n",
    "    target.simpleserial_write('c', hexvalue)\n",
    "    testresponse = target.simpleserial_read('r', 16)\n",
    "    if print_out:\n",
    "        print('cipher input: ')\n",
    "        print(hexvalue.hex())\n",
    "        print('aes decryption output:')\n",
    "        print(testresponse.hex())\n",
    "    return testresponse"
   ]
  },
  {
   "cell_type": "markdown",
   "metadata": {},
   "source": [
    "# Tests #\n"
   ]
  },
  {
   "cell_type": "code",
   "execution_count": 7,
   "metadata": {},
   "outputs": [
    {
     "name": "stdout",
     "output_type": "stream",
     "text": [
      "successfully set key to\n",
      "117e111128aed2a6abf7158809cf4fac\n",
      "\n",
      "plain text input: \n",
      "000102030405060708090a0b0c0d0e0f\n",
      "aes encryption output:\n",
      "8a5bfe6ef26542a1defbe6be47313e02\n",
      "\n",
      "cipher input: \n",
      "8a5bfe6ef26542a1defbe6be47313e02\n",
      "aes decryption output:\n",
      "000102030405060708090a0b0c0d0e0f\n"
     ]
    },
    {
     "data": {
      "text/plain": [
       "bytearray(b'\\x00\\x01\\x02\\x03\\x04\\x05\\x06\\x07\\x08\\t\\n\\x0b\\x0c\\r\\x0e\\x0f')"
      ]
     },
     "execution_count": 7,
     "metadata": {},
     "output_type": "execute_result"
    }
   ],
   "source": [
    "set_key_cw(bytearray.fromhex(\"117e111128aed2a6abf7158809cf4fac\"), print_out=True) \n",
    "print('\\n', end='')\n",
    "encrypt_plaintext_cw(bytearray.fromhex(\"00 01 02 03 04 05 06 07 08 09 0A 0B 0C 0D 0E 0F\"), print_out=True)\n",
    "print('\\n', end='')\n",
    "decrypt_plaintext_cw(bytearray.fromhex(\"8a5bfe6ef26542a1defbe6be47313e02\"), print_out=True)"
   ]
  },
  {
   "cell_type": "code",
   "execution_count": 8,
   "metadata": {},
   "outputs": [
    {
     "name": "stdout",
     "output_type": "stream",
     "text": [
      "successfully set key to\n",
      "00112233445566778899aabbccddeeff\n",
      "\n",
      "plain text input: \n",
      "113143884928acdcbbbdf97fb9039177\n",
      "aes encryption output:\n",
      "cba9d25c2ae56657241e177a430f6151\n",
      "\n",
      "cipher input: \n",
      "cba9d25c2ae56657241e177a430f6151\n",
      "aes decryption output:\n",
      "113143884928acdcbbbdf97fb9039177\n"
     ]
    },
    {
     "data": {
      "text/plain": [
       "bytearray(b'\\x111C\\x88I(\\xac\\xdc\\xbb\\xbd\\xf9\\x7f\\xb9\\x03\\x91w')"
      ]
     },
     "execution_count": 8,
     "metadata": {},
     "output_type": "execute_result"
    }
   ],
   "source": [
    "set_key_cw(bytearray.fromhex(\"00 11 22 33 44 55 66 77 88 99 AA BB CC DD EE FF\"), print_out=True) \n",
    "print('\\n', end='')\n",
    "encrypt_plaintext_cw(bytearray.fromhex(\"11 31 43 88 49 28 AC DC BB BD F9 7F B9 03 91 77\"), print_out=True)\n",
    "print('\\n', end='')\n",
    "decrypt_plaintext_cw(bytearray.fromhex(\"cba9d25c2ae56657241e177a430f6151\"), print_out=True)"
   ]
  },
  {
   "cell_type": "code",
   "execution_count": 10,
   "metadata": {
    "scrolled": true
   },
   "outputs": [
    {
     "name": "stdout",
     "output_type": "stream",
     "text": [
      "successfully set key to\n",
      "ffffffffffffffffff00000000000000\n",
      "\n",
      "plain text input: \n",
      "abcd11304d3d2d1defeeedecabacadae\n",
      "aes encryption output:\n",
      "72cc50002127e0764da710782898daff\n",
      "\n",
      "cipher input: \n",
      "72cc50002127e0764da710782898daff\n",
      "aes decryption output:\n",
      "abcd11304d3d2d1defeeedecabacadae\n"
     ]
    },
    {
     "data": {
      "text/plain": [
       "bytearray(b'\\xab\\xcd\\x110M=-\\x1d\\xef\\xee\\xed\\xec\\xab\\xac\\xad\\xae')"
      ]
     },
     "execution_count": 10,
     "metadata": {},
     "output_type": "execute_result"
    }
   ],
   "source": [
    "set_key_cw(bytearray.fromhex(\"FF FF FF FF FF FF FF FF FF 00 00 00 00 00 00 00\"), print_out=True) \n",
    "print('\\n', end='')\n",
    "encrypt_plaintext_cw(bytearray.fromhex(\"AB CD 11 30 4D 3D 2D 1D EF EE ED EC AB AC AD AE\"), print_out=True)\n",
    "print('\\n', end='')\n",
    "decrypt_plaintext_cw(bytearray.fromhex(\"72cc50002127e0764da710782898daff\"), print_out=True)"
   ]
  },
  {
   "cell_type": "code",
   "execution_count": null,
   "metadata": {},
   "outputs": [],
   "source": []
  }
 ],
 "metadata": {
  "kernelspec": {
   "display_name": "Python 3 (ipykernel)",
   "language": "python",
   "name": "python3"
  },
  "language_info": {
   "codemirror_mode": {
    "name": "ipython",
    "version": 3
   },
   "file_extension": ".py",
   "mimetype": "text/x-python",
   "name": "python",
   "nbconvert_exporter": "python",
   "pygments_lexer": "ipython3",
   "version": "3.10.8"
  }
 },
 "nbformat": 4,
 "nbformat_minor": 2
}
