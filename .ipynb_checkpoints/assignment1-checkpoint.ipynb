{
 "cells": [
  {
   "cell_type": "markdown",
   "metadata": {},
   "source": [
    "Setup"
   ]
  },
  {
   "cell_type": "code",
   "execution_count": 7,
   "metadata": {},
   "outputs": [],
   "source": [
    "import os\n",
    "import subprocess\n",
    "import re\n",
    "import numpy as np\n",
    "\n",
    "def remove_non_hex(s):\n",
    "    return re.sub(r'[^0-9A-Fa-f]', '', s)\n",
    "\n",
    "def file_exists(file_path):\n",
    "    return os.path.isfile(file_path)\n",
    "\n",
    "def make_directory(destination_directory):\n",
    "    # check that the destination directory exists\n",
    "    os.makedirs(destination_directory, exist_ok=True)\n",
    "\n",
    "def copy_files_to_directory(files:list, destination):\n",
    "    for file in files:\n",
    "        if not file_exists(file): raise Exception('ERROR: cannot find file ' + str(file))\n",
    "        subprocess.run([\"cp\", file, destination], capture_output=True, text=True)"
   ]
  },
  {
   "cell_type": "code",
   "execution_count": 3,
   "metadata": {},
   "outputs": [
    {
     "name": "stdout",
     "output_type": "stream",
     "text": [
      "INFO: Found ChipWhisperer😍\n"
     ]
    }
   ],
   "source": [
    "SCOPETYPE = 'CWNANO'\n",
    "PLATFORM = 'CWNANO'\n",
    "CRYPTO_TARGET='TINYAES128C' \n",
    "SS_VER='SS_VER_1_1'\n",
    "FIRMWARE_DIR='../../../hardware/victims/firmware'\n",
    "C_FOLDER_NAME='assignment1'\n",
    "C_DIR = os.path.join(FIRMWARE_DIR, C_FOLDER_NAME)\n",
    "%run \"../../Setup_Scripts/Setup_Generic.ipynb\"\n"
   ]
  },
  {
   "cell_type": "markdown",
   "metadata": {},
   "source": [
    "Setup the C Code Folder"
   ]
  },
  {
   "cell_type": "code",
   "execution_count": 4,
   "metadata": {
    "scrolled": true
   },
   "outputs": [],
   "source": [
    "#setup the folder for the c code\n",
    "make_directory(C_DIR)\n",
    "files_to_copy = ['./assignment1.c','./makefile']\n",
    "copy_files_to_directory(files_to_copy, C_DIR)\n"
   ]
  },
  {
   "cell_type": "code",
   "execution_count": 5,
   "metadata": {},
   "outputs": [
    {
     "name": "stdout",
     "output_type": "stream",
     "text": [
      "/home/portable/chipwhisperer/hardware/victims/firmware/assignment1\n",
      "Building for platform CWNANO with CRYPTO_TARGET=TINYAES128C\n",
      "SS_VER set to SS_VER_1_1\n",
      "SS_VER set to SS_VER_1_1\n",
      "Blank crypto options, building for AES128\n",
      "Building for platform CWNANO with CRYPTO_TARGET=TINYAES128C\n",
      "SS_VER set to SS_VER_1_1\n",
      "SS_VER set to SS_VER_1_1\n",
      "Blank crypto options, building for AES128\n",
      "mkdir .dep\n",
      "Building for platform CWNANO with CRYPTO_TARGET=TINYAES128C\n",
      "SS_VER set to SS_VER_1_1\n",
      "SS_VER set to SS_VER_1_1\n",
      "Blank crypto options, building for AES128\n",
      "arm-none-eabi-gcc (GNU Arm Embedded Toolchain 10-2020-q4-major) 10.2.1 20201103 (release)\n",
      "Copyright (C) 2020 Free Software Foundation, Inc.\n",
      "This is free software; see the source for copying conditions.  There is NO\n",
      "warranty; not even for MERCHANTABILITY or FITNESS FOR A PARTICULAR PURPOSE.\n",
      "\n",
      "mkdir objdir-CWNANO \n",
      ".\n",
      "Welcome to another exciting ChipWhisperer target build!!\n",
      ".\n",
      "Assembling: .././hal/stm32f0/stm32f0_startup.S\n",
      "arm-none-eabi-gcc -c -mcpu=cortex-m0 -I. -x assembler-with-cpp -mthumb -mfloat-abi=soft -ffunction-sections -DF_CPU=7372800 -Wa,-gstabs,-adhlns=objdir-CWNANO/stm32f0_startup.lst -I.././simpleserial/ -I.././simpleserial/ -I.././hal -I.././hal/stm32f0 -I.././hal/stm32f0/CMSIS -I.././hal/stm32f0/CMSIS/core -I.././hal/stm32f0/CMSIS/device -I.././hal/stm32f0/Legacy -I.././crypto/ -I.././crypto/tiny-AES128-C .././hal/stm32f0/stm32f0_startup.S -o objdir-CWNANO/stm32f0_startup.o\n",
      ".\n",
      "Compiling:\n",
      "    .././crypto/aes-independant.c ...Done!\n",
      ".\n",
      "Compiling:\n",
      "    .././simpleserial/simpleserial.c ...Done!\n",
      ".\n",
      "Compiling:\n",
      "    assignment1.c ...Done!\n"
     ]
    },
    {
     "name": "stderr",
     "output_type": "stream",
     "text": [
      "assignment1.c: In function 'send_message':\n",
      "assignment1.c:209:27: warning: incompatible implicit declaration of built-in function 'strlen'\n",
      "  209 |     simpleserial_put('r', strlen(msg), (uint8_t *)msg);\n",
      "      |                           ^~~~~~\n",
      "assignment1.c:25:1: note: include '<string.h>' or provide a declaration of 'strlen'\n",
      "   24 | #include <stdio.h>\n",
      "  +++ |+#include <string.h>\n",
      "   25 | \n",
      "assignment1.c: In function 'get_key':\n",
      "assignment1.c:223:1: warning: control reaches end of non-void function [-Wreturn-type]\n",
      "  223 | }\n",
      "      | ^\n"
     ]
    },
    {
     "name": "stdout",
     "output_type": "stream",
     "text": [
      ".\n",
      "Compiling:\n",
      "    .././hal/stm32f0_nano/stm32f0_hal_nano.c ...Done!\n",
      ".\n",
      "Compiling:\n",
      "    .././crypto/tiny-AES128-C/aes.c ...Done!\n",
      ".\n",
      "Compiling:\n",
      "    .././hal/stm32f0/stm32f0_hal_lowlevel.c ...Done!\n",
      ".\n",
      "LINKING:\n",
      "    assignment1-CWNANO.elf ...Done!\n",
      ".\n",
      "Creating load file for Flash: assignment1-CWNANO.hex\n",
      "arm-none-eabi-objcopy -O ihex -R .eeprom -R .fuse -R .lock -R .signature assignment1-CWNANO.elf assignment1-CWNANO.hex\n",
      ".\n",
      "Creating load file for Flash: assignment1-CWNANO.bin\n",
      "arm-none-eabi-objcopy -O binary -R .eeprom -R .fuse -R .lock -R .signature assignment1-CWNANO.elf assignment1-CWNANO.bin\n",
      ".\n",
      "Creating load file for EEPROM: assignment1-CWNANO.eep\n",
      "arm-none-eabi-objcopy -j .eeprom --set-section-flags=.eeprom=\"alloc,load\" \\\n",
      "--change-section-lma .eeprom=0 --no-change-warnings -O ihex assignment1-CWNANO.elf assignment1-CWNANO.eep || exit 0\n",
      ".\n",
      "Creating Symbol Table: assignment1-CWNANO.sym\n",
      "arm-none-eabi-nm -n assignment1-CWNANO.elf > assignment1-CWNANO.sym\n",
      ".\n",
      "Creating Extended Listing: assignment1-CWNANO.lss\n",
      "arm-none-eabi-objdump -h -S -z assignment1-CWNANO.elf > assignment1-CWNANO.lss\n",
      "Building for platform CWNANO with CRYPTO_TARGET=TINYAES128C\n",
      "SS_VER set to SS_VER_1_1\n",
      "SS_VER set to SS_VER_1_1\n",
      "Blank crypto options, building for AES128\n",
      "Size after:\n",
      "   text\t   data\t    bss\t    dec\t    hex\tfilename\n",
      "   4480\t     12\t   1428\t   5920\t   1720\tassignment1-CWNANO.elf\n",
      "+--------------------------------------------------------\n",
      "+ Default target does full rebuild each time.\n",
      "+ Specify buildtarget == allquick == to avoid full rebuild\n",
      "+--------------------------------------------------------\n",
      "+--------------------------------------------------------\n",
      "+ Built for platform CWNANO Built-in Target (STM32F030) with:\n",
      "+ CRYPTO_TARGET = TINYAES128C\n",
      "+ CRYPTO_OPTIONS = AES128C\n",
      "+--------------------------------------------------------\n"
     ]
    }
   ],
   "source": [
    "%%bash -s \"$PLATFORM\" \"$CRYPTO_TARGET\" \"$SS_VER\"\n",
    "#make sure path below matches C_DIR\n",
    "cd ../../../hardware/victims/firmware/assignment1\n",
    "echo $PWD\n",
    "#remove all old generated files\n",
    "rm -rf ./.dep\n",
    "rm -rf ./objdir-CWNANO\n",
    "rm ./*CWNANO*\n",
    "make PLATFORM=$1 CRYPTO_TARGET=$2 SS_VER=$3 -j"
   ]
  },
  {
   "cell_type": "markdown",
   "metadata": {},
   "source": [
    "Program the ChipWhisperer"
   ]
  },
  {
   "cell_type": "code",
   "execution_count": 6,
   "metadata": {},
   "outputs": [
    {
     "name": "stdout",
     "output_type": "stream",
     "text": [
      "../../../hardware/victims/firmware\\assignment1\\assignment1-CWNANO.hex\n",
      "Detected known STMF32: STM32F03xx4/03xx6\n",
      "Extended erase (0x44), this can take ten seconds or more\n",
      "Attempting to program 4491 bytes at 0x8000000\n",
      "STM32F Programming flash...\n",
      "STM32F Reading flash...\n",
      "Verified flash OK, 4491 bytes\n"
     ]
    },
    {
     "name": "stderr",
     "output_type": "stream",
     "text": [
      "(ChipWhisperer Target WARNING|File SimpleSerial.py:410) Unexpected start to command: \n"
     ]
    },
    {
     "name": "stdout",
     "output_type": "stream",
     "text": [
      "None\n"
     ]
    }
   ],
   "source": [
    "hexfile = 'assignment1-{}.hex'.format(PLATFORM)\n",
    "hexfilepath = str(os.path.join(C_DIR, hexfile))\n",
    "print(hexfilepath)\n",
    "cw.program_target(scope, prog, hexfilepath.format(PLATFORM))\n",
    "response = target.simpleserial_read('r', 16)\n",
    "print(response)"
   ]
  },
  {
   "cell_type": "code",
   "execution_count": 28,
   "metadata": {},
   "outputs": [
    {
     "name": "stdout",
     "output_type": "stream",
     "text": [
      "results:\n",
      " F7420746865206B65790A\n",
      "r676F7420746865206B65790A\n",
      "r676F7420746865206B65790A\n",
      "r676F7420746865206B65790A\n",
      "r676F7420746865206B65790A\n",
      "r676F7420746865206B65790A\n",
      "r676F7420746865206B65790A\n",
      "r676F7420746865206B65\n",
      "error\n"
     ]
    }
   ],
   "source": [
    "# msg = bytearray([1,2,3,4,5,6,7,7,8,9,10,11,12,12,131) #simpleserial uses bytearrays\n",
    "# target.simpleserial_write('p', msg)\n",
    "# print(target.simpleserial_read('r', 16))\n",
    "target.write('nothing')\n",
    "result = target.read()\n",
    "print('results:\\n',result)\n",
    "result = remove_non_hex(result)\n",
    "evenlen = (len(result)//2)*2\n",
    "try:\n",
    "    byts = bytes.fromhex(result[:evenlen]).decode(\"utf-8\")\n",
    "    print('byts:\\n',byts)    \n",
    "except:\n",
    "    print('error')"
   ]
  },
  {
   "cell_type": "code",
   "execution_count": 34,
   "metadata": {},
   "outputs": [
    {
     "name": "stderr",
     "output_type": "stream",
     "text": [
      "(ChipWhisperer Target WARNING|File SimpleSerial.py:419) ValueError: invalid literal for int() with base 16: '\\nr'\n",
      "(ChipWhisperer Target WARNING|File SimpleSerial.py:424) Unexpected end to command: 2\n"
     ]
    },
    {
     "name": "stdout",
     "output_type": "stream",
     "text": [
      "Original Matrix:\n",
      "[[1 1 1 1]\n",
      " [1 1 1 1]\n",
      " [1 1 1 1]\n",
      " [1 1 1 1]]\n",
      "Raw Bytes: b'\\x01\\x01\\x01\\x01\\x01\\x01\\x01\\x01\\x01\\x01\\x01\\x01\\x01\\x01\\x01\\x01'\n",
      "Data Length: 16\n",
      "Hex Output: 01010101010101010101010101010101\n",
      "response  None\n",
      "results:\n",
      " 074686\n"
     ]
    },
    {
     "ename": "UnicodeDecodeError",
     "evalue": "'utf-8' codec can't decode byte 0x86 in position 2: invalid start byte",
     "output_type": "error",
     "traceback": [
      "\u001b[1;31m---------------------------------------------------------------------------\u001b[0m",
      "\u001b[1;31mUnicodeDecodeError\u001b[0m                        Traceback (most recent call last)",
      "Cell \u001b[1;32mIn[34], line 34\u001b[0m\n\u001b[0;32m     32\u001b[0m result \u001b[38;5;241m=\u001b[39m remove_non_hex(result)\n\u001b[0;32m     33\u001b[0m evenlen \u001b[38;5;241m=\u001b[39m (\u001b[38;5;28mlen\u001b[39m(result)\u001b[38;5;241m/\u001b[39m\u001b[38;5;241m/\u001b[39m\u001b[38;5;241m2\u001b[39m)\u001b[38;5;241m*\u001b[39m\u001b[38;5;241m2\u001b[39m\n\u001b[1;32m---> 34\u001b[0m byts \u001b[38;5;241m=\u001b[39m \u001b[38;5;28;43mbytes\u001b[39;49m\u001b[38;5;241;43m.\u001b[39;49m\u001b[43mfromhex\u001b[49m\u001b[43m(\u001b[49m\u001b[43mresult\u001b[49m\u001b[43m[\u001b[49m\u001b[43m:\u001b[49m\u001b[43mevenlen\u001b[49m\u001b[43m]\u001b[49m\u001b[43m)\u001b[49m\u001b[38;5;241;43m.\u001b[39;49m\u001b[43mdecode\u001b[49m\u001b[43m(\u001b[49m\u001b[38;5;124;43m\"\u001b[39;49m\u001b[38;5;124;43mutf-8\u001b[39;49m\u001b[38;5;124;43m\"\u001b[39;49m\u001b[43m)\u001b[49m\n\u001b[0;32m     35\u001b[0m \u001b[38;5;28mprint\u001b[39m(\u001b[38;5;124m'\u001b[39m\u001b[38;5;124mbyts:\u001b[39m\u001b[38;5;130;01m\\n\u001b[39;00m\u001b[38;5;124m'\u001b[39m,byts)    \n",
      "\u001b[1;31mUnicodeDecodeError\u001b[0m: 'utf-8' codec can't decode byte 0x86 in position 2: invalid start byte"
     ]
    }
   ],
   "source": [
    "import numpy as np\n",
    "\n",
    "def matrix2bytes(matrix):\n",
    "    \"\"\" Converts a 4x4 matrix into a 16-byte array. \"\"\"\n",
    "    return bytes(matrix.flatten())  # Flattening ensures it's a 1D array\n",
    "\n",
    "# Create a 4x4 matrix of ones (uint8 format)\n",
    "matrix = np.ones((4, 4), dtype=np.uint8)\n",
    "\n",
    "# Debug: Print matrix to confirm structure\n",
    "print(\"Original Matrix:\")\n",
    "print(matrix)\n",
    "\n",
    "# Convert matrix to bytes\n",
    "data = matrix2bytes(matrix)\n",
    "\n",
    "# Debug: Print raw bytes and length\n",
    "print(\"Raw Bytes:\", data)\n",
    "print(\"Data Length:\", len(data))  # Should be 16\n",
    "\n",
    "# Print hex output\n",
    "print(\"Hex Output:\", data.hex() if data else \"Data is empty!\")\n",
    "\n",
    "# Simpleserial write\n",
    "target.simpleserial_write('p', data)\n",
    "\n",
    "target.simpleserial_write('k', data)\n",
    "response = target.simpleserial_read('r', 16)\n",
    "print('response ',response)\n",
    "result = target.read()\n",
    "print('results:\\n',result)\n",
    "result = remove_non_hex(result)\n",
    "evenlen = (len(result)//2)*2\n",
    "# byts = bytes.fromhex(result[:evenlen]).decode(\"utf-8\")\n",
    "# print('byts:\\n',byts)    "
   ]
  },
  {
   "cell_type": "markdown",
   "metadata": {},
   "source": []
  }
 ],
 "metadata": {
  "kernelspec": {
   "display_name": "Python 3 (ipykernel)",
   "language": "python",
   "name": "python3"
  },
  "language_info": {
   "codemirror_mode": {
    "name": "ipython",
    "version": 3
   },
   "file_extension": ".py",
   "mimetype": "text/x-python",
   "name": "python",
   "nbconvert_exporter": "python",
   "pygments_lexer": "ipython3",
   "version": "3.10.8"
  }
 },
 "nbformat": 4,
 "nbformat_minor": 2
}
